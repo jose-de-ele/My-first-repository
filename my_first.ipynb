{
  "nbformat": 4,
  "nbformat_minor": 0,
  "metadata": {
    "colab": {
      "provenance": [],
      "authorship_tag": "ABX9TyPo4inB/12cNFDlr5iT7tEG",
      "include_colab_link": true
    },
    "kernelspec": {
      "name": "python3",
      "display_name": "Python 3"
    },
    "language_info": {
      "name": "python"
    }
  },
  "cells": [
    {
      "cell_type": "markdown",
      "metadata": {
        "id": "view-in-github",
        "colab_type": "text"
      },
      "source": [
        "<a href=\"https://colab.research.google.com/github/jose-de-ele/My-first-repository/blob/main/my_first.ipynb\" target=\"_parent\"><img src=\"https://colab.research.google.com/assets/colab-badge.svg\" alt=\"Open In Colab\"/></a>"
      ]
    },
    {
      "cell_type": "code",
      "execution_count": 17,
      "metadata": {
        "colab": {
          "base_uri": "https://localhost:8080/"
        },
        "id": "CbKFjUZalC8R",
        "outputId": "7ddd2b39-7e97-4fde-93bc-c6df54783340"
      },
      "outputs": [
        {
          "output_type": "stream",
          "name": "stdout",
          "text": [
            "hola jose\n",
            "8\n",
            "15\n",
            "-b+(raiz(b-4*a*c/2*a))\n"
          ]
        }
      ],
      "source": [
        "name=\"jose\"\n",
        "print(\"hola\", name)\n",
        "a=3\n",
        "b=5\n",
        "c=a+b\n",
        "d=a*b\n",
        "print(c)\n",
        "print(d)\n",
        "print(\"-b+(raiz(b-4*a*c/2*a))\")\n"
      ]
    },
    {
      "cell_type": "code",
      "source": [],
      "metadata": {
        "id": "5jcdle0Xmnyh"
      },
      "execution_count": 7,
      "outputs": []
    }
  ]
}